{
 "cells": [
  {
   "cell_type": "markdown",
   "metadata": {},
   "source": [
    " #  A Whale off the Port(folio)\n",
    " ---\n",
    "\n",
    " In this assignment, you'll get to use what you've learned this week to evaluate the performance among various algorithmic, hedge, and mutual fund portfolios and compare them against the S&P TSX 60 Index."
   ]
  },
  {
   "cell_type": "code",
   "execution_count": 1,
   "metadata": {
    "tags": []
   },
   "outputs": [],
   "source": [
    "# Initial imports\n",
    "import pandas as pd\n",
    "import numpy as np\n",
    "import datetime as dt\n",
    "from pathlib import Path\n",
    "\n",
    "%matplotlib inline"
   ]
  },
  {
   "cell_type": "markdown",
   "metadata": {},
   "source": [
    "# Data Cleaning\n",
    "\n",
    "In this section, you will need to read the CSV files into DataFrames and perform any necessary data cleaning steps. After cleaning, combine all DataFrames into a single DataFrame.\n",
    "\n",
    "Files:\n",
    "\n",
    "* `whale_returns.csv`: Contains returns of some famous \"whale\" investors' portfolios.\n",
    "\n",
    "* `algo_returns.csv`: Contains returns from the in-house trading algorithms from Harold's company.\n",
    "\n",
    "* `sp_tsx_history.csv`: Contains historical closing prices of the S&P TSX 60 Index."
   ]
  },
  {
   "cell_type": "markdown",
   "metadata": {},
   "source": [
    "## Whale Returns\n",
    "\n",
    "Read the Whale Portfolio daily returns and clean the data."
   ]
  },
  {
   "cell_type": "code",
   "execution_count": 2,
   "metadata": {
    "tags": []
   },
   "outputs": [
    {
     "data": {
      "text/plain": [
       "'C:\\\\Users\\\\Nick Hugh\\\\Repos\\\\Module 4 Challenge'"
      ]
     },
     "execution_count": 2,
     "metadata": {},
     "output_type": "execute_result"
    }
   ],
   "source": [
    "pwd"
   ]
  },
  {
   "cell_type": "code",
   "execution_count": 3,
   "metadata": {
    "tags": []
   },
   "outputs": [
    {
     "data": {
      "text/html": [
       "<div>\n",
       "<style scoped>\n",
       "    .dataframe tbody tr th:only-of-type {\n",
       "        vertical-align: middle;\n",
       "    }\n",
       "\n",
       "    .dataframe tbody tr th {\n",
       "        vertical-align: top;\n",
       "    }\n",
       "\n",
       "    .dataframe thead th {\n",
       "        text-align: right;\n",
       "    }\n",
       "</style>\n",
       "<table border=\"1\" class=\"dataframe\">\n",
       "  <thead>\n",
       "    <tr style=\"text-align: right;\">\n",
       "      <th></th>\n",
       "      <th>SOROS FUND MANAGEMENT LLC</th>\n",
       "      <th>PAULSON &amp; CO.INC.</th>\n",
       "      <th>TIGER GLOBAL MANAGEMENT LLC</th>\n",
       "      <th>BERKSHIRE HATHAWAY INC</th>\n",
       "    </tr>\n",
       "    <tr>\n",
       "      <th>Date</th>\n",
       "      <th></th>\n",
       "      <th></th>\n",
       "      <th></th>\n",
       "      <th></th>\n",
       "    </tr>\n",
       "  </thead>\n",
       "  <tbody>\n",
       "    <tr>\n",
       "      <th>2015-03-02</th>\n",
       "      <td>NaN</td>\n",
       "      <td>NaN</td>\n",
       "      <td>NaN</td>\n",
       "      <td>NaN</td>\n",
       "    </tr>\n",
       "    <tr>\n",
       "      <th>2015-03-03</th>\n",
       "      <td>-0.001266</td>\n",
       "      <td>-0.004981</td>\n",
       "      <td>-0.000496</td>\n",
       "      <td>-0.006569</td>\n",
       "    </tr>\n",
       "    <tr>\n",
       "      <th>2015-03-04</th>\n",
       "      <td>0.002230</td>\n",
       "      <td>0.003241</td>\n",
       "      <td>-0.002534</td>\n",
       "      <td>0.004213</td>\n",
       "    </tr>\n",
       "    <tr>\n",
       "      <th>2015-03-05</th>\n",
       "      <td>0.004016</td>\n",
       "      <td>0.004076</td>\n",
       "      <td>0.002355</td>\n",
       "      <td>0.006726</td>\n",
       "    </tr>\n",
       "    <tr>\n",
       "      <th>2015-03-06</th>\n",
       "      <td>-0.007905</td>\n",
       "      <td>-0.003574</td>\n",
       "      <td>-0.008481</td>\n",
       "      <td>-0.013098</td>\n",
       "    </tr>\n",
       "    <tr>\n",
       "      <th>...</th>\n",
       "      <td>...</td>\n",
       "      <td>...</td>\n",
       "      <td>...</td>\n",
       "      <td>...</td>\n",
       "    </tr>\n",
       "    <tr>\n",
       "      <th>2019-04-25</th>\n",
       "      <td>-0.000285</td>\n",
       "      <td>-0.001291</td>\n",
       "      <td>-0.005153</td>\n",
       "      <td>0.004848</td>\n",
       "    </tr>\n",
       "    <tr>\n",
       "      <th>2019-04-26</th>\n",
       "      <td>0.008149</td>\n",
       "      <td>0.009162</td>\n",
       "      <td>0.012355</td>\n",
       "      <td>0.010434</td>\n",
       "    </tr>\n",
       "    <tr>\n",
       "      <th>2019-04-29</th>\n",
       "      <td>0.001254</td>\n",
       "      <td>0.002719</td>\n",
       "      <td>0.006251</td>\n",
       "      <td>0.005223</td>\n",
       "    </tr>\n",
       "    <tr>\n",
       "      <th>2019-04-30</th>\n",
       "      <td>-0.001295</td>\n",
       "      <td>-0.002211</td>\n",
       "      <td>-0.000259</td>\n",
       "      <td>-0.003702</td>\n",
       "    </tr>\n",
       "    <tr>\n",
       "      <th>2019-05-01</th>\n",
       "      <td>-0.005847</td>\n",
       "      <td>-0.001341</td>\n",
       "      <td>-0.007936</td>\n",
       "      <td>-0.007833</td>\n",
       "    </tr>\n",
       "  </tbody>\n",
       "</table>\n",
       "<p>1060 rows × 4 columns</p>\n",
       "</div>"
      ],
      "text/plain": [
       "            SOROS FUND MANAGEMENT LLC  PAULSON & CO.INC.   \\\n",
       "Date                                                        \n",
       "2015-03-02                        NaN                 NaN   \n",
       "2015-03-03                  -0.001266           -0.004981   \n",
       "2015-03-04                   0.002230            0.003241   \n",
       "2015-03-05                   0.004016            0.004076   \n",
       "2015-03-06                  -0.007905           -0.003574   \n",
       "...                               ...                 ...   \n",
       "2019-04-25                  -0.000285           -0.001291   \n",
       "2019-04-26                   0.008149            0.009162   \n",
       "2019-04-29                   0.001254            0.002719   \n",
       "2019-04-30                  -0.001295           -0.002211   \n",
       "2019-05-01                  -0.005847           -0.001341   \n",
       "\n",
       "            TIGER GLOBAL MANAGEMENT LLC  BERKSHIRE HATHAWAY INC  \n",
       "Date                                                             \n",
       "2015-03-02                          NaN                     NaN  \n",
       "2015-03-03                    -0.000496               -0.006569  \n",
       "2015-03-04                    -0.002534                0.004213  \n",
       "2015-03-05                     0.002355                0.006726  \n",
       "2015-03-06                    -0.008481               -0.013098  \n",
       "...                                 ...                     ...  \n",
       "2019-04-25                    -0.005153                0.004848  \n",
       "2019-04-26                     0.012355                0.010434  \n",
       "2019-04-29                     0.006251                0.005223  \n",
       "2019-04-30                    -0.000259               -0.003702  \n",
       "2019-05-01                    -0.007936               -0.007833  \n",
       "\n",
       "[1060 rows x 4 columns]"
      ]
     },
     "execution_count": 3,
     "metadata": {},
     "output_type": "execute_result"
    }
   ],
   "source": [
    "# Reading whale_returns.csv \n",
    "whale_path = Path(\"./Resources/whale_returns.csv\")  \n",
    "whale_df = pd.read_csv(whale_path, index_col=\"Date\", infer_datetime_format=True, parse_dates=True)\n",
    "\n",
    "# re-writing to whale_returns_mod.csv. To avoid problem using whale_returns.csv\n",
    "Whale_mod_path = Path(\"./Resources/whale_returns_mod.csv\") \n",
    "whale_df.to_csv(Whale_mod_path)\n",
    "\n",
    "# reading whale_returns_mod.csv\n",
    "whale_df = pd.read_csv(Whale_mod_path, index_col=\"Date\", infer_datetime_format=True, parse_dates=True) \n",
    "whale_df.sort_index(ascending=True)\n"
   ]
  },
  {
   "cell_type": "code",
   "execution_count": 4,
   "metadata": {
    "tags": []
   },
   "outputs": [
    {
     "data": {
      "text/plain": [
       "SOROS FUND MANAGEMENT LLC      float64\n",
       "PAULSON & CO.INC.              float64\n",
       "TIGER GLOBAL MANAGEMENT LLC    float64\n",
       "BERKSHIRE HATHAWAY INC         float64\n",
       "dtype: object"
      ]
     },
     "execution_count": 4,
     "metadata": {},
     "output_type": "execute_result"
    }
   ],
   "source": [
    "whale_df.dtypes"
   ]
  },
  {
   "cell_type": "code",
   "execution_count": 5,
   "metadata": {},
   "outputs": [
    {
     "data": {
      "text/plain": [
       "SOROS FUND MANAGEMENT LLC      1\n",
       "PAULSON & CO.INC.              1\n",
       "TIGER GLOBAL MANAGEMENT LLC    1\n",
       "BERKSHIRE HATHAWAY INC         1\n",
       "dtype: int64"
      ]
     },
     "execution_count": 5,
     "metadata": {},
     "output_type": "execute_result"
    }
   ],
   "source": [
    "# check whale returns\n",
    "whale_df.isnull().sum()"
   ]
  },
  {
   "cell_type": "code",
   "execution_count": 6,
   "metadata": {
    "tags": []
   },
   "outputs": [
    {
     "data": {
      "text/html": [
       "<div>\n",
       "<style scoped>\n",
       "    .dataframe tbody tr th:only-of-type {\n",
       "        vertical-align: middle;\n",
       "    }\n",
       "\n",
       "    .dataframe tbody tr th {\n",
       "        vertical-align: top;\n",
       "    }\n",
       "\n",
       "    .dataframe thead th {\n",
       "        text-align: right;\n",
       "    }\n",
       "</style>\n",
       "<table border=\"1\" class=\"dataframe\">\n",
       "  <thead>\n",
       "    <tr style=\"text-align: right;\">\n",
       "      <th></th>\n",
       "      <th>SOROS FUND MANAGEMENT LLC</th>\n",
       "      <th>PAULSON &amp; CO.INC.</th>\n",
       "      <th>TIGER GLOBAL MANAGEMENT LLC</th>\n",
       "      <th>BERKSHIRE HATHAWAY INC</th>\n",
       "    </tr>\n",
       "    <tr>\n",
       "      <th>Date</th>\n",
       "      <th></th>\n",
       "      <th></th>\n",
       "      <th></th>\n",
       "      <th></th>\n",
       "    </tr>\n",
       "  </thead>\n",
       "  <tbody>\n",
       "    <tr>\n",
       "      <th>2015-03-03</th>\n",
       "      <td>-0.001266</td>\n",
       "      <td>-0.004981</td>\n",
       "      <td>-0.000496</td>\n",
       "      <td>-0.006569</td>\n",
       "    </tr>\n",
       "    <tr>\n",
       "      <th>2015-03-04</th>\n",
       "      <td>0.002230</td>\n",
       "      <td>0.003241</td>\n",
       "      <td>-0.002534</td>\n",
       "      <td>0.004213</td>\n",
       "    </tr>\n",
       "    <tr>\n",
       "      <th>2015-03-05</th>\n",
       "      <td>0.004016</td>\n",
       "      <td>0.004076</td>\n",
       "      <td>0.002355</td>\n",
       "      <td>0.006726</td>\n",
       "    </tr>\n",
       "    <tr>\n",
       "      <th>2015-03-06</th>\n",
       "      <td>-0.007905</td>\n",
       "      <td>-0.003574</td>\n",
       "      <td>-0.008481</td>\n",
       "      <td>-0.013098</td>\n",
       "    </tr>\n",
       "    <tr>\n",
       "      <th>2015-03-09</th>\n",
       "      <td>0.000582</td>\n",
       "      <td>0.004225</td>\n",
       "      <td>0.005843</td>\n",
       "      <td>-0.001652</td>\n",
       "    </tr>\n",
       "  </tbody>\n",
       "</table>\n",
       "</div>"
      ],
      "text/plain": [
       "            SOROS FUND MANAGEMENT LLC  PAULSON & CO.INC.   \\\n",
       "Date                                                        \n",
       "2015-03-03                  -0.001266           -0.004981   \n",
       "2015-03-04                   0.002230            0.003241   \n",
       "2015-03-05                   0.004016            0.004076   \n",
       "2015-03-06                  -0.007905           -0.003574   \n",
       "2015-03-09                   0.000582            0.004225   \n",
       "\n",
       "            TIGER GLOBAL MANAGEMENT LLC  BERKSHIRE HATHAWAY INC  \n",
       "Date                                                             \n",
       "2015-03-03                    -0.000496               -0.006569  \n",
       "2015-03-04                    -0.002534                0.004213  \n",
       "2015-03-05                     0.002355                0.006726  \n",
       "2015-03-06                    -0.008481               -0.013098  \n",
       "2015-03-09                     0.005843               -0.001652  "
      ]
     },
     "execution_count": 6,
     "metadata": {},
     "output_type": "execute_result"
    }
   ],
   "source": [
    "#delete NaNs\n",
    "whale_df = whale_df.dropna().copy()\n",
    "whale_df.head()"
   ]
  },
  {
   "cell_type": "code",
   "execution_count": 7,
   "metadata": {
    "tags": []
   },
   "outputs": [
    {
     "data": {
      "text/plain": [
       "SOROS FUND MANAGEMENT LLC      0\n",
       "PAULSON & CO.INC.              0\n",
       "TIGER GLOBAL MANAGEMENT LLC    0\n",
       "BERKSHIRE HATHAWAY INC         0\n",
       "dtype: int64"
      ]
     },
     "execution_count": 7,
     "metadata": {},
     "output_type": "execute_result"
    }
   ],
   "source": [
    "# By inspection the first row has no data, delete row\n",
    "whale_df.isnull().sum()"
   ]
  },
  {
   "cell_type": "code",
   "execution_count": 8,
   "metadata": {
    "tags": []
   },
   "outputs": [
    {
     "data": {
      "text/plain": [
       "SOROS FUND MANAGEMENT LLC      39\n",
       "PAULSON & CO.INC.              39\n",
       "TIGER GLOBAL MANAGEMENT LLC    39\n",
       "BERKSHIRE HATHAWAY INC         39\n",
       "dtype: int64"
      ]
     },
     "execution_count": 8,
     "metadata": {},
     "output_type": "execute_result"
    }
   ],
   "source": [
    "# By inspection data is zero for all columns on a range of rows.  \n",
    "xeros_df = whale_df.loc[whale_df[\"SOROS FUND MANAGEMENT LLC\"] == 0]\n",
    "xeros_df.count()"
   ]
  },
  {
   "cell_type": "code",
   "execution_count": 9,
   "metadata": {},
   "outputs": [
    {
     "data": {
      "text/plain": [
       "SOROS FUND MANAGEMENT LLC      0\n",
       "PAULSON & CO.INC.              0\n",
       "TIGER GLOBAL MANAGEMENT LLC    0\n",
       "BERKSHIRE HATHAWAY INC         0\n",
       "dtype: int64"
      ]
     },
     "execution_count": 9,
     "metadata": {},
     "output_type": "execute_result"
    }
   ],
   "source": [
    "# Recreate whale_df to exclude zero rows \n",
    "whale_df = whale_df.loc[whale_df[\"SOROS FUND MANAGEMENT LLC\"] != 0]\n",
    "whale_df.loc[whale_df[\"SOROS FUND MANAGEMENT LLC\"] == 0].count()\n"
   ]
  },
  {
   "cell_type": "code",
   "execution_count": 10,
   "metadata": {},
   "outputs": [
    {
     "data": {
      "text/plain": [
       "SOROS FUND MANAGEMENT LLC      0\n",
       "PAULSON & CO.INC.              0\n",
       "TIGER GLOBAL MANAGEMENT LLC    0\n",
       "BERKSHIRE HATHAWAY INC         0\n",
       "dtype: int64"
      ]
     },
     "execution_count": 10,
     "metadata": {},
     "output_type": "execute_result"
    }
   ],
   "source": [
    "# Drop nulls\n",
    "whale_df.dropna().copy()\n",
    "whale_df.isnull().sum()"
   ]
  },
  {
   "cell_type": "code",
   "execution_count": 11,
   "metadata": {
    "tags": []
   },
   "outputs": [
    {
     "data": {
      "text/plain": [
       "SOROS FUND MANAGEMENT LLC      float64\n",
       "PAULSON & CO.INC.              float64\n",
       "TIGER GLOBAL MANAGEMENT LLC    float64\n",
       "BERKSHIRE HATHAWAY INC         float64\n",
       "dtype: object"
      ]
     },
     "execution_count": 11,
     "metadata": {},
     "output_type": "execute_result"
    }
   ],
   "source": [
    "whale_df.dtypes"
   ]
  },
  {
   "cell_type": "markdown",
   "metadata": {},
   "source": [
    "## Algorithmic Daily Returns\n",
    "\n",
    "Read the algorithmic daily returns and clean the data."
   ]
  },
  {
   "cell_type": "code",
   "execution_count": 12,
   "metadata": {},
   "outputs": [
    {
     "data": {
      "text/html": [
       "<div>\n",
       "<style scoped>\n",
       "    .dataframe tbody tr th:only-of-type {\n",
       "        vertical-align: middle;\n",
       "    }\n",
       "\n",
       "    .dataframe tbody tr th {\n",
       "        vertical-align: top;\n",
       "    }\n",
       "\n",
       "    .dataframe thead th {\n",
       "        text-align: right;\n",
       "    }\n",
       "</style>\n",
       "<table border=\"1\" class=\"dataframe\">\n",
       "  <thead>\n",
       "    <tr style=\"text-align: right;\">\n",
       "      <th></th>\n",
       "      <th>Algo 1</th>\n",
       "      <th>Algo 2</th>\n",
       "    </tr>\n",
       "    <tr>\n",
       "      <th>Date</th>\n",
       "      <th></th>\n",
       "      <th></th>\n",
       "    </tr>\n",
       "  </thead>\n",
       "  <tbody>\n",
       "    <tr>\n",
       "      <th>2014-05-28</th>\n",
       "      <td>0.001745</td>\n",
       "      <td>NaN</td>\n",
       "    </tr>\n",
       "    <tr>\n",
       "      <th>2014-05-29</th>\n",
       "      <td>0.003978</td>\n",
       "      <td>NaN</td>\n",
       "    </tr>\n",
       "    <tr>\n",
       "      <th>2014-05-30</th>\n",
       "      <td>0.004464</td>\n",
       "      <td>NaN</td>\n",
       "    </tr>\n",
       "    <tr>\n",
       "      <th>2014-06-02</th>\n",
       "      <td>0.005692</td>\n",
       "      <td>NaN</td>\n",
       "    </tr>\n",
       "    <tr>\n",
       "      <th>2014-06-03</th>\n",
       "      <td>0.005292</td>\n",
       "      <td>NaN</td>\n",
       "    </tr>\n",
       "    <tr>\n",
       "      <th>2014-06-04</th>\n",
       "      <td>-0.001838</td>\n",
       "      <td>NaN</td>\n",
       "    </tr>\n",
       "    <tr>\n",
       "      <th>2014-06-05</th>\n",
       "      <td>0.004062</td>\n",
       "      <td>0.013285</td>\n",
       "    </tr>\n",
       "    <tr>\n",
       "      <th>2014-06-06</th>\n",
       "      <td>0.001857</td>\n",
       "      <td>0.008284</td>\n",
       "    </tr>\n",
       "    <tr>\n",
       "      <th>2014-06-09</th>\n",
       "      <td>-0.005012</td>\n",
       "      <td>0.005668</td>\n",
       "    </tr>\n",
       "    <tr>\n",
       "      <th>2014-06-10</th>\n",
       "      <td>0.004406</td>\n",
       "      <td>-0.000735</td>\n",
       "    </tr>\n",
       "  </tbody>\n",
       "</table>\n",
       "</div>"
      ],
      "text/plain": [
       "              Algo 1    Algo 2\n",
       "Date                          \n",
       "2014-05-28  0.001745       NaN\n",
       "2014-05-29  0.003978       NaN\n",
       "2014-05-30  0.004464       NaN\n",
       "2014-06-02  0.005692       NaN\n",
       "2014-06-03  0.005292       NaN\n",
       "2014-06-04 -0.001838       NaN\n",
       "2014-06-05  0.004062  0.013285\n",
       "2014-06-06  0.001857  0.008284\n",
       "2014-06-09 -0.005012  0.005668\n",
       "2014-06-10  0.004406 -0.000735"
      ]
     },
     "execution_count": 12,
     "metadata": {},
     "output_type": "execute_result"
    }
   ],
   "source": [
    "# Reading algorithmic returns\n",
    "algo_path = Path(\"./Resources/algo_returns.csv\")#Path(\"C:/Users/Nick Hugh/Repos/Module 4 Challenge/Resources/algo_returns.csv\")\n",
    "algo_df = pd.read_csv(algo_path, index_col=\"Date\", infer_datetime_format=True, parse_dates=True) \n",
    "algo_df.sort_index(ascending=True)\n",
    "algo_df.head(10)"
   ]
  },
  {
   "cell_type": "code",
   "execution_count": 13,
   "metadata": {},
   "outputs": [
    {
     "data": {
      "text/plain": [
       "Algo 1    float64\n",
       "Algo 2    float64\n",
       "dtype: object"
      ]
     },
     "execution_count": 13,
     "metadata": {},
     "output_type": "execute_result"
    }
   ],
   "source": [
    "# Count nulls\n",
    "algo_df.isnull().sum()\n",
    "algo_df.dtypes\n"
   ]
  },
  {
   "cell_type": "code",
   "execution_count": 14,
   "metadata": {},
   "outputs": [
    {
     "data": {
      "text/html": [
       "<div>\n",
       "<style scoped>\n",
       "    .dataframe tbody tr th:only-of-type {\n",
       "        vertical-align: middle;\n",
       "    }\n",
       "\n",
       "    .dataframe tbody tr th {\n",
       "        vertical-align: top;\n",
       "    }\n",
       "\n",
       "    .dataframe thead th {\n",
       "        text-align: right;\n",
       "    }\n",
       "</style>\n",
       "<table border=\"1\" class=\"dataframe\">\n",
       "  <thead>\n",
       "    <tr style=\"text-align: right;\">\n",
       "      <th></th>\n",
       "      <th>Algo 1</th>\n",
       "      <th>Algo 2</th>\n",
       "    </tr>\n",
       "    <tr>\n",
       "      <th>Date</th>\n",
       "      <th></th>\n",
       "      <th></th>\n",
       "    </tr>\n",
       "  </thead>\n",
       "  <tbody>\n",
       "    <tr>\n",
       "      <th>2014-06-05</th>\n",
       "      <td>0.004062</td>\n",
       "      <td>0.013285</td>\n",
       "    </tr>\n",
       "    <tr>\n",
       "      <th>2014-06-06</th>\n",
       "      <td>0.001857</td>\n",
       "      <td>0.008284</td>\n",
       "    </tr>\n",
       "    <tr>\n",
       "      <th>2014-06-09</th>\n",
       "      <td>-0.005012</td>\n",
       "      <td>0.005668</td>\n",
       "    </tr>\n",
       "    <tr>\n",
       "      <th>2014-06-10</th>\n",
       "      <td>0.004406</td>\n",
       "      <td>-0.000735</td>\n",
       "    </tr>\n",
       "    <tr>\n",
       "      <th>2014-06-11</th>\n",
       "      <td>0.004760</td>\n",
       "      <td>-0.003761</td>\n",
       "    </tr>\n",
       "    <tr>\n",
       "      <th>2014-06-12</th>\n",
       "      <td>-0.000028</td>\n",
       "      <td>-0.003841</td>\n",
       "    </tr>\n",
       "    <tr>\n",
       "      <th>2014-06-13</th>\n",
       "      <td>0.001917</td>\n",
       "      <td>-0.000814</td>\n",
       "    </tr>\n",
       "    <tr>\n",
       "      <th>2014-06-16</th>\n",
       "      <td>0.001084</td>\n",
       "      <td>0.001831</td>\n",
       "    </tr>\n",
       "    <tr>\n",
       "      <th>2014-06-17</th>\n",
       "      <td>0.000922</td>\n",
       "      <td>0.006870</td>\n",
       "    </tr>\n",
       "    <tr>\n",
       "      <th>2014-06-18</th>\n",
       "      <td>-0.006303</td>\n",
       "      <td>0.007228</td>\n",
       "    </tr>\n",
       "  </tbody>\n",
       "</table>\n",
       "</div>"
      ],
      "text/plain": [
       "              Algo 1    Algo 2\n",
       "Date                          \n",
       "2014-06-05  0.004062  0.013285\n",
       "2014-06-06  0.001857  0.008284\n",
       "2014-06-09 -0.005012  0.005668\n",
       "2014-06-10  0.004406 -0.000735\n",
       "2014-06-11  0.004760 -0.003761\n",
       "2014-06-12 -0.000028 -0.003841\n",
       "2014-06-13  0.001917 -0.000814\n",
       "2014-06-16  0.001084  0.001831\n",
       "2014-06-17  0.000922  0.006870\n",
       "2014-06-18 -0.006303  0.007228"
      ]
     },
     "execution_count": 14,
     "metadata": {},
     "output_type": "execute_result"
    }
   ],
   "source": [
    "# Drop nulls\n",
    "algo_df = algo_df.dropna().copy()\n",
    "algo_df.head(10)"
   ]
  },
  {
   "cell_type": "code",
   "execution_count": 15,
   "metadata": {
    "tags": []
   },
   "outputs": [
    {
     "data": {
      "text/plain": [
       "Algo 1    0\n",
       "Algo 2    0\n",
       "dtype: int64"
      ]
     },
     "execution_count": 15,
     "metadata": {},
     "output_type": "execute_result"
    }
   ],
   "source": [
    "# Check for zero filled rows\n",
    "algo_df[(algo_df[\"Algo 1\"]==0) & (algo_df[\"Algo 2\"]==0)].count()"
   ]
  },
  {
   "cell_type": "markdown",
   "metadata": {},
   "source": [
    "## S&P TSX 60 Returns\n",
    "\n",
    "Read the S&P TSX 60 historic closing prices and create a new daily returns DataFrame from the data. "
   ]
  },
  {
   "cell_type": "code",
   "execution_count": 16,
   "metadata": {},
   "outputs": [],
   "source": [
    "# Reading S&P TSX 60 Closing Prices\n",
    "tsx_path = Path(\"./Resources/sp_tsx_history.csv\")#Path(\"C:/Users/Nick Hugh/Repos/Module 4 Challenge/Resources/sp_tsx_history.csv\")\n",
    "tsx_df = pd.read_csv(tsx_path, index_col=\"Date\", infer_datetime_format=True, parse_dates=True) \n",
    "tsx_df = tsx_df.sort_index(ascending=True)\n"
   ]
  },
  {
   "cell_type": "code",
   "execution_count": 17,
   "metadata": {},
   "outputs": [
    {
     "data": {
      "text/plain": [
       "Close    object\n",
       "dtype: object"
      ]
     },
     "execution_count": 17,
     "metadata": {},
     "output_type": "execute_result"
    }
   ],
   "source": [
    "# Check Data Types\n",
    "tsx_df.dtypes"
   ]
  },
  {
   "cell_type": "code",
   "execution_count": 18,
   "metadata": {
    "tags": []
   },
   "outputs": [
    {
     "name": "stderr",
     "output_type": "stream",
     "text": [
      "C:\\Users\\Nick Hugh\\AppData\\Local\\Temp\\ipykernel_23952\\2309346413.py:2: FutureWarning: The default value of regex will change from True to False in a future version. In addition, single character regular expressions will *not* be treated as literal strings when regex=True.\n",
      "  tsx_df['Close'] = tsx_df['Close'].str.replace('$', '')\n"
     ]
    }
   ],
   "source": [
    "# Fix Data Types\n",
    "tsx_df['Close'] = tsx_df['Close'].str.replace('$', '')\n",
    "tsx_df['Close'] = tsx_df['Close'].str.replace(',', '')"
   ]
  },
  {
   "cell_type": "code",
   "execution_count": 19,
   "metadata": {},
   "outputs": [
    {
     "data": {
      "text/plain": [
       "Close    float64\n",
       "dtype: object"
      ]
     },
     "execution_count": 19,
     "metadata": {},
     "output_type": "execute_result"
    }
   ],
   "source": [
    "# save to new csv file and reload\n",
    "tsx_out_path = Path(\"./Resources/sp_tsx_history_mod.csv\")#Path(\"C:/Users/Nick Hugh/Repos/Module 4 Challenge/Resources/sp_tsx_history_mod.csv\")\n",
    "tsx_df.to_csv(tsx_out_path)\n",
    "\n",
    "tsx_path = Path(\"./Resources/sp_tsx_history_mod.csv\")#Path(\"C:/Users/Nick Hugh/Repos/Module 4 Challenge/Resources/sp_tsx_history_mod.csv\")\n",
    "tsx_df = pd.read_csv(tsx_path, index_col=\"Date\", infer_datetime_format=True, parse_dates=True) \n",
    "tsx_df = tsx_df.sort_index(ascending=True)\n",
    "tsx_df.dtypes\n"
   ]
  },
  {
   "cell_type": "code",
   "execution_count": 20,
   "metadata": {
    "tags": []
   },
   "outputs": [
    {
     "data": {
      "text/plain": [
       "Close    0\n",
       "dtype: int64"
      ]
     },
     "execution_count": 20,
     "metadata": {},
     "output_type": "execute_result"
    }
   ],
   "source": [
    "# Check nulls\n",
    "tsx_df.isnull().sum()\n"
   ]
  },
  {
   "cell_type": "code",
   "execution_count": 21,
   "metadata": {},
   "outputs": [
    {
     "data": {
      "text/html": [
       "<div>\n",
       "<style scoped>\n",
       "    .dataframe tbody tr th:only-of-type {\n",
       "        vertical-align: middle;\n",
       "    }\n",
       "\n",
       "    .dataframe tbody tr th {\n",
       "        vertical-align: top;\n",
       "    }\n",
       "\n",
       "    .dataframe thead th {\n",
       "        text-align: right;\n",
       "    }\n",
       "</style>\n",
       "<table border=\"1\" class=\"dataframe\">\n",
       "  <thead>\n",
       "    <tr style=\"text-align: right;\">\n",
       "      <th></th>\n",
       "      <th>Close</th>\n",
       "    </tr>\n",
       "    <tr>\n",
       "      <th>Date</th>\n",
       "      <th></th>\n",
       "    </tr>\n",
       "  </thead>\n",
       "  <tbody>\n",
       "    <tr>\n",
       "      <th>2012-10-01</th>\n",
       "      <td>12370.19</td>\n",
       "    </tr>\n",
       "    <tr>\n",
       "      <th>2012-10-02</th>\n",
       "      <td>12391.23</td>\n",
       "    </tr>\n",
       "    <tr>\n",
       "      <th>2012-10-03</th>\n",
       "      <td>12359.47</td>\n",
       "    </tr>\n",
       "    <tr>\n",
       "      <th>2012-10-04</th>\n",
       "      <td>12447.68</td>\n",
       "    </tr>\n",
       "    <tr>\n",
       "      <th>2012-10-05</th>\n",
       "      <td>12418.99</td>\n",
       "    </tr>\n",
       "    <tr>\n",
       "      <th>...</th>\n",
       "      <td>...</td>\n",
       "    </tr>\n",
       "    <tr>\n",
       "      <th>2019-12-20</th>\n",
       "      <td>17118.44</td>\n",
       "    </tr>\n",
       "    <tr>\n",
       "      <th>2019-12-23</th>\n",
       "      <td>17128.71</td>\n",
       "    </tr>\n",
       "    <tr>\n",
       "      <th>2019-12-24</th>\n",
       "      <td>17180.15</td>\n",
       "    </tr>\n",
       "    <tr>\n",
       "      <th>2019-12-27</th>\n",
       "      <td>17168.21</td>\n",
       "    </tr>\n",
       "    <tr>\n",
       "      <th>2019-12-30</th>\n",
       "      <td>17098.56</td>\n",
       "    </tr>\n",
       "  </tbody>\n",
       "</table>\n",
       "<p>1818 rows × 1 columns</p>\n",
       "</div>"
      ],
      "text/plain": [
       "               Close\n",
       "Date                \n",
       "2012-10-01  12370.19\n",
       "2012-10-02  12391.23\n",
       "2012-10-03  12359.47\n",
       "2012-10-04  12447.68\n",
       "2012-10-05  12418.99\n",
       "...              ...\n",
       "2019-12-20  17118.44\n",
       "2019-12-23  17128.71\n",
       "2019-12-24  17180.15\n",
       "2019-12-27  17168.21\n",
       "2019-12-30  17098.56\n",
       "\n",
       "[1818 rows x 1 columns]"
      ]
     },
     "execution_count": 21,
     "metadata": {},
     "output_type": "execute_result"
    }
   ],
   "source": [
    "# Drop nulls\n",
    "tsx_df.dropna()\n"
   ]
  },
  {
   "cell_type": "code",
   "execution_count": 22,
   "metadata": {},
   "outputs": [],
   "source": [
    "# Rename `Close` Column to be specific to this portfolio.\n",
    "tsx_df = tsx_df.rename(columns={'Close': 'TSX'})\n"
   ]
  },
  {
   "cell_type": "code",
   "execution_count": 23,
   "metadata": {},
   "outputs": [
    {
     "data": {
      "text/html": [
       "<div>\n",
       "<style scoped>\n",
       "    .dataframe tbody tr th:only-of-type {\n",
       "        vertical-align: middle;\n",
       "    }\n",
       "\n",
       "    .dataframe tbody tr th {\n",
       "        vertical-align: top;\n",
       "    }\n",
       "\n",
       "    .dataframe thead th {\n",
       "        text-align: right;\n",
       "    }\n",
       "</style>\n",
       "<table border=\"1\" class=\"dataframe\">\n",
       "  <thead>\n",
       "    <tr style=\"text-align: right;\">\n",
       "      <th></th>\n",
       "      <th>TSX</th>\n",
       "    </tr>\n",
       "    <tr>\n",
       "      <th>Date</th>\n",
       "      <th></th>\n",
       "    </tr>\n",
       "  </thead>\n",
       "  <tbody>\n",
       "    <tr>\n",
       "      <th>2012-10-01</th>\n",
       "      <td>NaN</td>\n",
       "    </tr>\n",
       "    <tr>\n",
       "      <th>2012-10-02</th>\n",
       "      <td>0.001701</td>\n",
       "    </tr>\n",
       "    <tr>\n",
       "      <th>2012-10-03</th>\n",
       "      <td>-0.002563</td>\n",
       "    </tr>\n",
       "    <tr>\n",
       "      <th>2012-10-04</th>\n",
       "      <td>0.007137</td>\n",
       "    </tr>\n",
       "    <tr>\n",
       "      <th>2012-10-05</th>\n",
       "      <td>-0.002305</td>\n",
       "    </tr>\n",
       "    <tr>\n",
       "      <th>...</th>\n",
       "      <td>...</td>\n",
       "    </tr>\n",
       "    <tr>\n",
       "      <th>2019-12-20</th>\n",
       "      <td>0.003188</td>\n",
       "    </tr>\n",
       "    <tr>\n",
       "      <th>2019-12-23</th>\n",
       "      <td>0.000600</td>\n",
       "    </tr>\n",
       "    <tr>\n",
       "      <th>2019-12-24</th>\n",
       "      <td>0.003003</td>\n",
       "    </tr>\n",
       "    <tr>\n",
       "      <th>2019-12-27</th>\n",
       "      <td>-0.000695</td>\n",
       "    </tr>\n",
       "    <tr>\n",
       "      <th>2019-12-30</th>\n",
       "      <td>-0.004057</td>\n",
       "    </tr>\n",
       "  </tbody>\n",
       "</table>\n",
       "<p>1818 rows × 1 columns</p>\n",
       "</div>"
      ],
      "text/plain": [
       "                 TSX\n",
       "Date                \n",
       "2012-10-01       NaN\n",
       "2012-10-02  0.001701\n",
       "2012-10-03 -0.002563\n",
       "2012-10-04  0.007137\n",
       "2012-10-05 -0.002305\n",
       "...              ...\n",
       "2019-12-20  0.003188\n",
       "2019-12-23  0.000600\n",
       "2019-12-24  0.003003\n",
       "2019-12-27 -0.000695\n",
       "2019-12-30 -0.004057\n",
       "\n",
       "[1818 rows x 1 columns]"
      ]
     },
     "execution_count": 23,
     "metadata": {},
     "output_type": "execute_result"
    }
   ],
   "source": [
    "# Calculate Daily Returns\n",
    "tsx_pct_df = tsx_df.pct_change()\n",
    "tsx_pct_df\n"
   ]
  },
  {
   "cell_type": "code",
   "execution_count": 24,
   "metadata": {
    "tags": []
   },
   "outputs": [
    {
     "data": {
      "text/plain": [
       "TSX    1\n",
       "dtype: int64"
      ]
     },
     "execution_count": 24,
     "metadata": {},
     "output_type": "execute_result"
    }
   ],
   "source": [
    "# check nulls\n",
    "tsx_pct_df.isna().sum()"
   ]
  },
  {
   "cell_type": "code",
   "execution_count": 25,
   "metadata": {
    "tags": []
   },
   "outputs": [
    {
     "data": {
      "text/html": [
       "<div>\n",
       "<style scoped>\n",
       "    .dataframe tbody tr th:only-of-type {\n",
       "        vertical-align: middle;\n",
       "    }\n",
       "\n",
       "    .dataframe tbody tr th {\n",
       "        vertical-align: top;\n",
       "    }\n",
       "\n",
       "    .dataframe thead th {\n",
       "        text-align: right;\n",
       "    }\n",
       "</style>\n",
       "<table border=\"1\" class=\"dataframe\">\n",
       "  <thead>\n",
       "    <tr style=\"text-align: right;\">\n",
       "      <th></th>\n",
       "      <th>TSX</th>\n",
       "    </tr>\n",
       "    <tr>\n",
       "      <th>Date</th>\n",
       "      <th></th>\n",
       "    </tr>\n",
       "  </thead>\n",
       "  <tbody>\n",
       "    <tr>\n",
       "      <th>2012-10-02</th>\n",
       "      <td>0.001701</td>\n",
       "    </tr>\n",
       "    <tr>\n",
       "      <th>2012-10-03</th>\n",
       "      <td>-0.002563</td>\n",
       "    </tr>\n",
       "    <tr>\n",
       "      <th>2012-10-04</th>\n",
       "      <td>0.007137</td>\n",
       "    </tr>\n",
       "    <tr>\n",
       "      <th>2012-10-05</th>\n",
       "      <td>-0.002305</td>\n",
       "    </tr>\n",
       "    <tr>\n",
       "      <th>2012-10-09</th>\n",
       "      <td>-0.011709</td>\n",
       "    </tr>\n",
       "    <tr>\n",
       "      <th>...</th>\n",
       "      <td>...</td>\n",
       "    </tr>\n",
       "    <tr>\n",
       "      <th>2019-12-20</th>\n",
       "      <td>0.003188</td>\n",
       "    </tr>\n",
       "    <tr>\n",
       "      <th>2019-12-23</th>\n",
       "      <td>0.000600</td>\n",
       "    </tr>\n",
       "    <tr>\n",
       "      <th>2019-12-24</th>\n",
       "      <td>0.003003</td>\n",
       "    </tr>\n",
       "    <tr>\n",
       "      <th>2019-12-27</th>\n",
       "      <td>-0.000695</td>\n",
       "    </tr>\n",
       "    <tr>\n",
       "      <th>2019-12-30</th>\n",
       "      <td>-0.004057</td>\n",
       "    </tr>\n",
       "  </tbody>\n",
       "</table>\n",
       "<p>1817 rows × 1 columns</p>\n",
       "</div>"
      ],
      "text/plain": [
       "                 TSX\n",
       "Date                \n",
       "2012-10-02  0.001701\n",
       "2012-10-03 -0.002563\n",
       "2012-10-04  0.007137\n",
       "2012-10-05 -0.002305\n",
       "2012-10-09 -0.011709\n",
       "...              ...\n",
       "2019-12-20  0.003188\n",
       "2019-12-23  0.000600\n",
       "2019-12-24  0.003003\n",
       "2019-12-27 -0.000695\n",
       "2019-12-30 -0.004057\n",
       "\n",
       "[1817 rows x 1 columns]"
      ]
     },
     "execution_count": 25,
     "metadata": {},
     "output_type": "execute_result"
    }
   ],
   "source": [
    "tsx_pct_df.dropna()"
   ]
  },
  {
   "cell_type": "markdown",
   "metadata": {},
   "source": [
    "## Combine Whale, Algorithmic, and S&P TSX 60 Returns"
   ]
  },
  {
   "cell_type": "code",
   "execution_count": 26,
   "metadata": {},
   "outputs": [
    {
     "data": {
      "text/html": [
       "<div>\n",
       "<style scoped>\n",
       "    .dataframe tbody tr th:only-of-type {\n",
       "        vertical-align: middle;\n",
       "    }\n",
       "\n",
       "    .dataframe tbody tr th {\n",
       "        vertical-align: top;\n",
       "    }\n",
       "\n",
       "    .dataframe thead th {\n",
       "        text-align: right;\n",
       "    }\n",
       "</style>\n",
       "<table border=\"1\" class=\"dataframe\">\n",
       "  <thead>\n",
       "    <tr style=\"text-align: right;\">\n",
       "      <th></th>\n",
       "      <th>SOROS</th>\n",
       "      <th>PAULSON</th>\n",
       "      <th>TIGER</th>\n",
       "      <th>BERKSHIRE</th>\n",
       "      <th>Algo 1</th>\n",
       "      <th>Algo 2</th>\n",
       "      <th>TSX</th>\n",
       "    </tr>\n",
       "    <tr>\n",
       "      <th>Date</th>\n",
       "      <th></th>\n",
       "      <th></th>\n",
       "      <th></th>\n",
       "      <th></th>\n",
       "      <th></th>\n",
       "      <th></th>\n",
       "      <th></th>\n",
       "    </tr>\n",
       "  </thead>\n",
       "  <tbody>\n",
       "    <tr>\n",
       "      <th>2015-03-03</th>\n",
       "      <td>-0.001266</td>\n",
       "      <td>-0.004981</td>\n",
       "      <td>-0.000496</td>\n",
       "      <td>-0.006569</td>\n",
       "      <td>-0.001942</td>\n",
       "      <td>-0.000949</td>\n",
       "      <td>-0.008530</td>\n",
       "    </tr>\n",
       "    <tr>\n",
       "      <th>2015-03-04</th>\n",
       "      <td>0.002230</td>\n",
       "      <td>0.003241</td>\n",
       "      <td>-0.002534</td>\n",
       "      <td>0.004213</td>\n",
       "      <td>-0.008589</td>\n",
       "      <td>0.002416</td>\n",
       "      <td>-0.003371</td>\n",
       "    </tr>\n",
       "    <tr>\n",
       "      <th>2015-03-05</th>\n",
       "      <td>0.004016</td>\n",
       "      <td>0.004076</td>\n",
       "      <td>0.002355</td>\n",
       "      <td>0.006726</td>\n",
       "      <td>-0.000955</td>\n",
       "      <td>0.004323</td>\n",
       "      <td>0.001344</td>\n",
       "    </tr>\n",
       "    <tr>\n",
       "      <th>2015-03-06</th>\n",
       "      <td>-0.007905</td>\n",
       "      <td>-0.003574</td>\n",
       "      <td>-0.008481</td>\n",
       "      <td>-0.013098</td>\n",
       "      <td>-0.004957</td>\n",
       "      <td>-0.011460</td>\n",
       "      <td>-0.009972</td>\n",
       "    </tr>\n",
       "    <tr>\n",
       "      <th>2015-03-09</th>\n",
       "      <td>0.000582</td>\n",
       "      <td>0.004225</td>\n",
       "      <td>0.005843</td>\n",
       "      <td>-0.001652</td>\n",
       "      <td>-0.005447</td>\n",
       "      <td>0.001303</td>\n",
       "      <td>-0.006555</td>\n",
       "    </tr>\n",
       "    <tr>\n",
       "      <th>...</th>\n",
       "      <td>...</td>\n",
       "      <td>...</td>\n",
       "      <td>...</td>\n",
       "      <td>...</td>\n",
       "      <td>...</td>\n",
       "      <td>...</td>\n",
       "      <td>...</td>\n",
       "    </tr>\n",
       "    <tr>\n",
       "      <th>2019-04-25</th>\n",
       "      <td>-0.000285</td>\n",
       "      <td>-0.001291</td>\n",
       "      <td>-0.005153</td>\n",
       "      <td>0.004848</td>\n",
       "      <td>0.000682</td>\n",
       "      <td>-0.007247</td>\n",
       "      <td>-0.000628</td>\n",
       "    </tr>\n",
       "    <tr>\n",
       "      <th>2019-04-26</th>\n",
       "      <td>0.008149</td>\n",
       "      <td>0.009162</td>\n",
       "      <td>0.012355</td>\n",
       "      <td>0.010434</td>\n",
       "      <td>0.002981</td>\n",
       "      <td>0.005256</td>\n",
       "      <td>0.002254</td>\n",
       "    </tr>\n",
       "    <tr>\n",
       "      <th>2019-04-29</th>\n",
       "      <td>0.001254</td>\n",
       "      <td>0.002719</td>\n",
       "      <td>0.006251</td>\n",
       "      <td>0.005223</td>\n",
       "      <td>0.005208</td>\n",
       "      <td>0.002829</td>\n",
       "      <td>-0.000788</td>\n",
       "    </tr>\n",
       "    <tr>\n",
       "      <th>2019-04-30</th>\n",
       "      <td>-0.001295</td>\n",
       "      <td>-0.002211</td>\n",
       "      <td>-0.000259</td>\n",
       "      <td>-0.003702</td>\n",
       "      <td>-0.002944</td>\n",
       "      <td>-0.001570</td>\n",
       "      <td>-0.001183</td>\n",
       "    </tr>\n",
       "    <tr>\n",
       "      <th>2019-05-01</th>\n",
       "      <td>-0.005847</td>\n",
       "      <td>-0.001341</td>\n",
       "      <td>-0.007936</td>\n",
       "      <td>-0.007833</td>\n",
       "      <td>0.000094</td>\n",
       "      <td>-0.007358</td>\n",
       "      <td>-0.004703</td>\n",
       "    </tr>\n",
       "  </tbody>\n",
       "</table>\n",
       "<p>1000 rows × 7 columns</p>\n",
       "</div>"
      ],
      "text/plain": [
       "               SOROS   PAULSON     TIGER  BERKSHIRE    Algo 1    Algo 2  \\\n",
       "Date                                                                      \n",
       "2015-03-03 -0.001266 -0.004981 -0.000496  -0.006569 -0.001942 -0.000949   \n",
       "2015-03-04  0.002230  0.003241 -0.002534   0.004213 -0.008589  0.002416   \n",
       "2015-03-05  0.004016  0.004076  0.002355   0.006726 -0.000955  0.004323   \n",
       "2015-03-06 -0.007905 -0.003574 -0.008481  -0.013098 -0.004957 -0.011460   \n",
       "2015-03-09  0.000582  0.004225  0.005843  -0.001652 -0.005447  0.001303   \n",
       "...              ...       ...       ...        ...       ...       ...   \n",
       "2019-04-25 -0.000285 -0.001291 -0.005153   0.004848  0.000682 -0.007247   \n",
       "2019-04-26  0.008149  0.009162  0.012355   0.010434  0.002981  0.005256   \n",
       "2019-04-29  0.001254  0.002719  0.006251   0.005223  0.005208  0.002829   \n",
       "2019-04-30 -0.001295 -0.002211 -0.000259  -0.003702 -0.002944 -0.001570   \n",
       "2019-05-01 -0.005847 -0.001341 -0.007936  -0.007833  0.000094 -0.007358   \n",
       "\n",
       "                 TSX  \n",
       "Date                  \n",
       "2015-03-03 -0.008530  \n",
       "2015-03-04 -0.003371  \n",
       "2015-03-05  0.001344  \n",
       "2015-03-06 -0.009972  \n",
       "2015-03-09 -0.006555  \n",
       "...              ...  \n",
       "2019-04-25 -0.000628  \n",
       "2019-04-26  0.002254  \n",
       "2019-04-29 -0.000788  \n",
       "2019-04-30 -0.001183  \n",
       "2019-05-01 -0.004703  \n",
       "\n",
       "[1000 rows x 7 columns]"
      ]
     },
     "execution_count": 26,
     "metadata": {},
     "output_type": "execute_result"
    }
   ],
   "source": [
    "# Join Whale Returns, Algorithmic Returns, and the S&P TSX 60 Returns into a single DataFrame with columns for each portfolio's returns.\n",
    "combined_df = pd.concat([whale_df,algo_df,tsx_pct_df], axis='columns', join='inner')\n",
    "combined_df.set_index=\"Date\"\n",
    "combined_df.sort_index()\n",
    "\n",
    "# for simplicity \n",
    "combined_df = combined_df.rename(columns={'SOROS FUND MANAGEMENT LLC': 'SOROS'})\n",
    "combined_df = combined_df.rename(columns={'TIGER GLOBAL MANAGEMENT LLC': 'TIGER'})\n",
    "combined_df = combined_df.rename(columns={'BERKSHIRE HATHAWAY INC': 'BERKSHIRE'})\n",
    "combined_df = combined_df.rename(columns={'PAULSON & CO.INC. ': 'PAULSON'})\n",
    "\n",
    "\n",
    "combined_df"
   ]
  },
  {
   "cell_type": "markdown",
   "metadata": {},
   "source": [
    "---"
   ]
  },
  {
   "cell_type": "code",
   "execution_count": null,
   "metadata": {
    "tags": []
   },
   "outputs": [],
   "source": []
  },
  {
   "cell_type": "markdown",
   "metadata": {},
   "source": [
    "# Conduct Quantitative Analysis\n",
    "\n",
    "In this section, you will calculate and visualize performance and risk metrics for the portfolios."
   ]
  },
  {
   "cell_type": "markdown",
   "metadata": {},
   "source": [
    "## Performance Anlysis\n",
    "\n",
    "#### Calculate and Plot the daily returns."
   ]
  },
  {
   "cell_type": "code",
   "execution_count": 27,
   "metadata": {
    "tags": []
   },
   "outputs": [
    {
     "data": {
      "text/plain": [
       "Index(['SOROS', 'PAULSON', 'TIGER', 'BERKSHIRE', 'Algo 1', 'Algo 2', 'TSX'], dtype='object')"
      ]
     },
     "execution_count": 27,
     "metadata": {},
     "output_type": "execute_result"
    }
   ],
   "source": [
    "combined_df.columns"
   ]
  },
  {
   "cell_type": "code",
   "execution_count": 28,
   "metadata": {},
   "outputs": [
    {
     "data": {
      "text/plain": [
       "<Axes: xlabel='Date'>"
      ]
     },
     "execution_count": 28,
     "metadata": {},
     "output_type": "execute_result"
    },
    {
     "data": {
      "image/png": "[encoded data removed]",
      "text/plain": [
       "<Figure size 640x480 with 1 Axes>"
      ]
     },
     "metadata": {},
     "output_type": "display_data"
    }
   ],
   "source": [
    "# Plot daily returns of all portfolios\n",
    "combined_df.plot()\n",
    "\n"
   ]
  },
  {
   "cell_type": "markdown",
   "metadata": {},
   "source": [
    "#### Calculate and Plot cumulative returns."
   ]
  },
  {
   "cell_type": "code",
   "execution_count": 29,
   "metadata": {},
   "outputs": [
    {
     "data": {
      "text/plain": [
       "<Axes: xlabel='Date'>"
      ]
     },
     "execution_count": 29,
     "metadata": {},
     "output_type": "execute_result"
    },
    {
     "data": {
      "image/png": "[encoded data removed]",
      "text/plain": [
       "<Figure size 640x480 with 1 Axes>"
      ]
     },
     "metadata": {},
     "output_type": "display_data"
    }
   ],
   "source": [
    "# Calculate cumulative returns of all portfolios\n",
    "Cumprod_df = pd.DataFrame()\n",
    "Cumprod_df = (1 + combined_df).cumprod()\n",
    "\n",
    "Cumprod_df.plot()\n",
    "\n"
   ]
  },
  {
   "cell_type": "markdown",
   "metadata": {},
   "source": [
    "---"
   ]
  },
  {
   "cell_type": "markdown",
   "metadata": {},
   "source": [
    "## Risk Analysis\n",
    "\n",
    "Determine the _risk_ of each portfolio:\n",
    "\n",
    "1. Create a box plot for each portfolio. \n",
    "2. Calculate the standard deviation for all portfolios.\n",
    "4. Determine which portfolios are riskier than the S&P TSX 60.\n",
    "5. Calculate the Annualized Standard Deviation."
   ]
  },
  {
   "cell_type": "markdown",
   "metadata": {},
   "source": [
    "### Create a box plot for each portfolio\n"
   ]
  },
  {
   "cell_type": "code",
   "execution_count": 30,
   "metadata": {},
   "outputs": [
    {
     "data": {
      "text/plain": [
       "<Axes: >"
      ]
     },
     "execution_count": 30,
     "metadata": {},
     "output_type": "execute_result"
    },
    {
     "data": {
      "image/png": "[encoded data removed]",
      "text/plain": [
       "<Figure size 640x480 with 1 Axes>"
      ]
     },
     "metadata": {},
     "output_type": "display_data"
    }
   ],
   "source": [
    "# Box plot to visually show risk\n",
    "Cumprod_df.plot(kind=\"box\")\n"
   ]
  },
  {
   "cell_type": "markdown",
   "metadata": {},
   "source": [
    "### Calculate Standard Deviations"
   ]
  },
  {
   "cell_type": "code",
   "execution_count": 31,
   "metadata": {},
   "outputs": [],
   "source": [
    "# Calculate the daily standard deviations of all portfolios\n",
    "std_df = Cumprod_df.std()\n"
   ]
  },
  {
   "cell_type": "markdown",
   "metadata": {},
   "source": [
    "### Determine which portfolios are riskier than the S&P TSX 60"
   ]
  },
  {
   "cell_type": "code",
   "execution_count": 32,
   "metadata": {},
   "outputs": [
    {
     "data": {
      "text/plain": [
       "SOROS        0.070320\n",
       "TSX          0.073243\n",
       "PAULSON      0.090715\n",
       "Algo 2       0.112156\n",
       "TIGER        0.149071\n",
       "BERKSHIRE    0.196995\n",
       "Algo 1       0.256136\n",
       "dtype: float64"
      ]
     },
     "execution_count": 32,
     "metadata": {},
     "output_type": "execute_result"
    }
   ],
   "source": [
    "# Calculate  the daily standard deviation of S&P TSX 60\n",
    "std_df.sort_values()\n",
    "\n"
   ]
  },
  {
   "cell_type": "markdown",
   "metadata": {},
   "source": [
    "### Calculate the Annualized Standard Deviation"
   ]
  },
  {
   "cell_type": "code",
   "execution_count": 33,
   "metadata": {},
   "outputs": [
    {
     "data": {
      "text/plain": [
       "SOROS        1.116297\n",
       "PAULSON      1.440055\n",
       "TIGER        2.366424\n",
       "BERKSHIRE    3.127201\n",
       "Algo 1       4.066041\n",
       "Algo 2       1.780416\n",
       "TSX          1.162703\n",
       "dtype: float64"
      ]
     },
     "execution_count": 33,
     "metadata": {},
     "output_type": "execute_result"
    }
   ],
   "source": [
    "# Calculate the annualized standard deviation (252 trading days)\n",
    "Cumprod_df.std() * np.sqrt(252)\n"
   ]
  },
  {
   "cell_type": "markdown",
   "metadata": {},
   "source": [
    "---"
   ]
  },
  {
   "cell_type": "markdown",
   "metadata": {},
   "source": [
    "## Rolling Statistics\n",
    "\n",
    "Risk changes over time. Analyze the rolling statistics for Risk and Beta. \n",
    "\n",
    "1. Calculate and plot the rolling standard deviation for all portfolios using a 21-day window.\n",
    "2. Calculate the correlation between each stock to determine which portfolios may mimick the S&P TSX 60.\n",
    "3. Choose one portfolio, then calculate and plot the 60-day rolling beta for it and the S&P TSX 60."
   ]
  },
  {
   "cell_type": "markdown",
   "metadata": {},
   "source": [
    "### Calculate and plot rolling `std` for all portfolios with 21-day window"
   ]
  },
  {
   "cell_type": "code",
   "execution_count": 34,
   "metadata": {},
   "outputs": [
    {
     "data": {
      "text/plain": [
       "<Axes: xlabel='Date'>"
      ]
     },
     "execution_count": 34,
     "metadata": {},
     "output_type": "execute_result"
    },
    {
     "data": {
      "image/png": "[encoded data removed]",
      "text/plain": [
       "<Figure size 640x480 with 1 Axes>"
      ]
     },
     "metadata": {},
     "output_type": "display_data"
    }
   ],
   "source": [
    "# Calculate the rolling standard deviation for all portfolios using a 21-day window\n",
    "combined_df.rolling(window=21).std()\n",
    "\n",
    "# Plot the rolling standard deviation\n",
    "combined_df.rolling(window=21).std().plot()\n"
   ]
  },
  {
   "cell_type": "markdown",
   "metadata": {},
   "source": [
    "### Calculate and plot the correlation"
   ]
  },
  {
   "cell_type": "code",
   "execution_count": 35,
   "metadata": {},
   "outputs": [
    {
     "data": {
      "text/html": [
       "<div>\n",
       "<style scoped>\n",
       "    .dataframe tbody tr th:only-of-type {\n",
       "        vertical-align: middle;\n",
       "    }\n",
       "\n",
       "    .dataframe tbody tr th {\n",
       "        vertical-align: top;\n",
       "    }\n",
       "\n",
       "    .dataframe thead th {\n",
       "        text-align: right;\n",
       "    }\n",
       "</style>\n",
       "<table border=\"1\" class=\"dataframe\">\n",
       "  <thead>\n",
       "    <tr style=\"text-align: right;\">\n",
       "      <th></th>\n",
       "      <th>SOROS</th>\n",
       "      <th>PAULSON</th>\n",
       "      <th>TIGER</th>\n",
       "      <th>BERKSHIRE</th>\n",
       "      <th>Algo 1</th>\n",
       "      <th>Algo 2</th>\n",
       "      <th>TSX</th>\n",
       "    </tr>\n",
       "  </thead>\n",
       "  <tbody>\n",
       "    <tr>\n",
       "      <th>SOROS</th>\n",
       "      <td>1.000000</td>\n",
       "      <td>0.697109</td>\n",
       "      <td>0.560972</td>\n",
       "      <td>0.750178</td>\n",
       "      <td>0.315982</td>\n",
       "      <td>0.840957</td>\n",
       "      <td>0.684439</td>\n",
       "    </tr>\n",
       "    <tr>\n",
       "      <th>PAULSON</th>\n",
       "      <td>0.697109</td>\n",
       "      <td>1.000000</td>\n",
       "      <td>0.433033</td>\n",
       "      <td>0.540079</td>\n",
       "      <td>0.268353</td>\n",
       "      <td>0.685653</td>\n",
       "      <td>0.494409</td>\n",
       "    </tr>\n",
       "    <tr>\n",
       "      <th>TIGER</th>\n",
       "      <td>0.560972</td>\n",
       "      <td>0.433033</td>\n",
       "      <td>1.000000</td>\n",
       "      <td>0.423538</td>\n",
       "      <td>0.162407</td>\n",
       "      <td>0.515437</td>\n",
       "      <td>0.447586</td>\n",
       "    </tr>\n",
       "    <tr>\n",
       "      <th>BERKSHIRE</th>\n",
       "      <td>0.750178</td>\n",
       "      <td>0.540079</td>\n",
       "      <td>0.423538</td>\n",
       "      <td>1.000000</td>\n",
       "      <td>0.291364</td>\n",
       "      <td>0.696456</td>\n",
       "      <td>0.565851</td>\n",
       "    </tr>\n",
       "    <tr>\n",
       "      <th>Algo 1</th>\n",
       "      <td>0.315982</td>\n",
       "      <td>0.268353</td>\n",
       "      <td>0.162407</td>\n",
       "      <td>0.291364</td>\n",
       "      <td>1.000000</td>\n",
       "      <td>0.283138</td>\n",
       "      <td>0.307950</td>\n",
       "    </tr>\n",
       "    <tr>\n",
       "      <th>Algo 2</th>\n",
       "      <td>0.840957</td>\n",
       "      <td>0.685653</td>\n",
       "      <td>0.515437</td>\n",
       "      <td>0.696456</td>\n",
       "      <td>0.283138</td>\n",
       "      <td>1.000000</td>\n",
       "      <td>0.740503</td>\n",
       "    </tr>\n",
       "    <tr>\n",
       "      <th>TSX</th>\n",
       "      <td>0.684439</td>\n",
       "      <td>0.494409</td>\n",
       "      <td>0.447586</td>\n",
       "      <td>0.565851</td>\n",
       "      <td>0.307950</td>\n",
       "      <td>0.740503</td>\n",
       "      <td>1.000000</td>\n",
       "    </tr>\n",
       "  </tbody>\n",
       "</table>\n",
       "</div>"
      ],
      "text/plain": [
       "              SOROS   PAULSON     TIGER  BERKSHIRE    Algo 1    Algo 2  \\\n",
       "SOROS      1.000000  0.697109  0.560972   0.750178  0.315982  0.840957   \n",
       "PAULSON    0.697109  1.000000  0.433033   0.540079  0.268353  0.685653   \n",
       "TIGER      0.560972  0.433033  1.000000   0.423538  0.162407  0.515437   \n",
       "BERKSHIRE  0.750178  0.540079  0.423538   1.000000  0.291364  0.696456   \n",
       "Algo 1     0.315982  0.268353  0.162407   0.291364  1.000000  0.283138   \n",
       "Algo 2     0.840957  0.685653  0.515437   0.696456  0.283138  1.000000   \n",
       "TSX        0.684439  0.494409  0.447586   0.565851  0.307950  0.740503   \n",
       "\n",
       "                TSX  \n",
       "SOROS      0.684439  \n",
       "PAULSON    0.494409  \n",
       "TIGER      0.447586  \n",
       "BERKSHIRE  0.565851  \n",
       "Algo 1     0.307950  \n",
       "Algo 2     0.740503  \n",
       "TSX        1.000000  "
      ]
     },
     "execution_count": 35,
     "metadata": {},
     "output_type": "execute_result"
    }
   ],
   "source": [
    "# Calculate the correlation\n",
    "corr_df = combined_df.corr()\n",
    "\n",
    "# Display the correlation matrix\n",
    "corr_df\n"
   ]
  },
  {
   "cell_type": "markdown",
   "metadata": {},
   "source": [
    "### Calculate and Plot Beta for a chosen portfolio and the S&P 60 TSX"
   ]
  },
  {
   "cell_type": "code",
   "execution_count": 36,
   "metadata": {},
   "outputs": [
    {
     "name": "stdout",
     "output_type": "stream",
     "text": [
      "SOROS_Beta = 0.77\n",
      "PAULSON_Beta = 0.50\n",
      "TIGER_Beta = 0.70\n",
      "BERKSHIRE_Beta = 1.05\n",
      "Algo1_Beta = 0.34\n",
      "Algo2_Beta = 0.88\n",
      "TSX_Beta = 1.00\n"
     ]
    }
   ],
   "source": [
    "#Calculate covariance of a single portfolio\n",
    "Covar_Soros_with_TSX = combined_df[\"SOROS\"].cov(combined_df[\"TSX\"])\n",
    "# Calculate variance of S&P TSX\n",
    "var_TSX = combined_df[\"TSX\"].var()\n",
    "# Computing beta\n",
    "SOROS_Beta = Covar_Soros_with_TSX / var_TSX\n",
    "SOROS_Beta\n",
    "print(f\"SOROS_Beta = {SOROS_Beta:.2f}\")\n",
    "\n",
    "Covar_Soros_with_TSX = combined_df[\"PAULSON\"].cov(combined_df[\"TSX\"])\n",
    "# Calculate variance of S&P TSX\n",
    "var_TSX = combined_df[\"TSX\"].var()\n",
    "# Computing beta\n",
    "PAULSON_Beta = Covar_Soros_with_TSX / var_TSX\n",
    "print(f\"PAULSON_Beta = {PAULSON_Beta:.2f}\")\n",
    "\n",
    "Covar_Soros_with_TSX = combined_df[\"TIGER\"].cov(combined_df[\"TSX\"])\n",
    "# Calculate variance of S&P TSX\n",
    "var_TSX = combined_df[\"TSX\"].var()\n",
    "# Computing beta\n",
    "TIGER_Beta = Covar_Soros_with_TSX / var_TSX\n",
    "print(f\"TIGER_Beta = {TIGER_Beta:.2f}\")\n",
    "\n",
    "Covar_Soros_with_TSX = combined_df[\"BERKSHIRE\"].cov(combined_df[\"TSX\"])\n",
    "# Calculate variance of S&P TSX\n",
    "var_TSX = combined_df[\"TSX\"].var()\n",
    "# Computing beta\n",
    "BERKSHIRE_Beta = Covar_Soros_with_TSX / var_TSX\n",
    "print(f\"BERKSHIRE_Beta = {BERKSHIRE_Beta:.2f}\")\n",
    "\n",
    "Covar_Soros_with_TSX = combined_df[\"Algo 1\"].cov(combined_df[\"TSX\"])\n",
    "# Calculate variance of S&P TSX\n",
    "var_TSX = combined_df[\"TSX\"].var()\n",
    "# Computing beta\n",
    "Algo1_Beta = Covar_Soros_with_TSX / var_TSX\n",
    "print(f\"Algo1_Beta = {Algo1_Beta:.2f}\")\n",
    "\n",
    "Covar_Soros_with_TSX = combined_df[\"Algo 2\"].cov(combined_df[\"TSX\"])\n",
    "# Calculate variance of S&P TSX\n",
    "var_TSX = combined_df[\"TSX\"].var()\n",
    "# Computing beta\n",
    "Algo2_Beta = Covar_Soros_with_TSX / var_TSX\n",
    "print(f\"Algo2_Beta = {Algo2_Beta:.2f}\")\n",
    "\n",
    "Covar_TSX_with_TSX = combined_df[\"TSX\"].cov(combined_df[\"TSX\"])\n",
    "# Calculate variance of S&P TSX\n",
    "var_TSX = combined_df[\"TSX\"].var()\n",
    "# Computing beta\n",
    "TSX_Beta = Covar_TSX_with_TSX / var_TSX\n",
    "print(f\"TSX_Beta = {TSX_Beta:.2f}\")\n",
    "\n"
   ]
  },
  {
   "cell_type": "markdown",
   "metadata": {},
   "source": [
    "## Rolling Statistics Challenge: Exponentially Weighted Average \n",
    "\n",
    "An alternative way to calculate a rolling window is to take the exponentially weighted moving average. This is like a moving window average, but it assigns greater importance to more recent observations. Try calculating the [`ewm`](https://pandas.pydata.org/pandas-docs/stable/reference/api/pandas.DataFrame.ewm.html) with a 21-day half life for each portfolio, using standard deviation (`std`) as the metric of interest."
   ]
  },
  {
   "cell_type": "code",
   "execution_count": 37,
   "metadata": {},
   "outputs": [
    {
     "data": {
      "text/plain": [
       "<Axes: xlabel='Date'>"
      ]
     },
     "execution_count": 37,
     "metadata": {},
     "output_type": "execute_result"
    },
    {
     "data": {
      "image/png": "[encoded data removed]",
      "text/plain": [
       "<Figure size 640x480 with 1 Axes>"
      ]
     },
     "metadata": {},
     "output_type": "display_data"
    }
   ],
   "source": [
    "# Use `ewm` to calculate the rolling window\n",
    "ax = Cumprod_df[\"SOROS\"].plot()\n",
    "Cumprod_df[\"SOROS\"].ewm(halflife = 21).mean().plot(ax=ax)\n"
   ]
  },
  {
   "cell_type": "markdown",
   "metadata": {},
   "source": [
    "---"
   ]
  },
  {
   "cell_type": "markdown",
   "metadata": {},
   "source": [
    "# Sharpe Ratios\n",
    "In reality, investment managers and thier institutional investors look at the ratio of return-to-risk, and not just returns alone. After all, if you could invest in one of two portfolios, and each offered the same 10% return, yet one offered lower risk, you'd take that one, right?\n",
    "\n",
    "### Using the daily returns, calculate and visualize the Sharpe ratios using a bar plot"
   ]
  },
  {
   "cell_type": "code",
   "execution_count": 70,
   "metadata": {},
   "outputs": [
    {
     "data": {
      "text/plain": [
       "SOROS        0.208168\n",
       "PAULSON     -0.993740\n",
       "TIGER       -2.651306\n",
       "BERKSHIRE    0.255685\n",
       "Algo 1      -0.809941\n",
       "Algo 2       0.274709\n",
       "TSX          0.380536\n",
       "dtype: float64"
      ]
     },
     "execution_count": 70,
     "metadata": {},
     "output_type": "execute_result"
    }
   ],
   "source": [
    "# Annualized Sharpe Ratios\n",
    "avg_daily_bill_return = 2.0 /36500 # average daily return over 2015 - 2019\n",
    "\n",
    "combined_pct_df = combined_df.pct_change().dropna();\n",
    "combined_mean_returns_df = combined_pct_df.mean() * np.sqrt(252)\n",
    "combined_stds_df = combined_pct_df.std()\n",
    "\n",
    "excess_returns = combined_mean_returns_df - avg_daily_bill_return * np.sqrt(252)\n",
    "sharp_ratios_df = excess_returns / combined_stds_df\n",
    "sharp_ratios_df\n",
    "\n"
   ]
  },
  {
   "cell_type": "code",
   "execution_count": 71,
   "metadata": {},
   "outputs": [
    {
     "data": {
      "text/plain": [
       "<Axes: >"
      ]
     },
     "execution_count": 71,
     "metadata": {},
     "output_type": "execute_result"
    },
    {
     "data": {
      "image/png": "[encoded data removed]",
      "text/plain": [
       "<Figure size 640x480 with 1 Axes>"
      ]
     },
     "metadata": {},
     "output_type": "display_data"
    }
   ],
   "source": [
    "# Visualize the sharpe ratios as a bar plot\n",
    "sharp_ratios_df.plot(kind='bar')"
   ]
  },
  {
   "cell_type": "markdown",
   "metadata": {},
   "source": [
    "### Determine whether the algorithmic strategies outperform both the market (S&P TSX 60) and the whales portfolios.\n",
    "\n",
    "Write your answer here!"
   ]
  },
  {
   "cell_type": "markdown",
   "metadata": {},
   "source": [
    "---"
   ]
  },
  {
   "cell_type": "markdown",
   "metadata": {},
   "source": [
    "# Create Custom Portfolio\n",
    "\n",
    "In this section, you will build your own portfolio of stocks, calculate the returns, and compare the results to the Whale Portfolios and the S&P TSX 60. \n",
    "\n",
    "1. Choose 3-5 custom stocks with at last 1 year's worth of historic prices and create a DataFrame of the closing prices and dates for each stock.\n",
    "2. Calculate the weighted returns for the portfolio assuming an equal number of shares for each stock.\n",
    "3. Join your portfolio returns to the DataFrame that contains all of the portfolio returns.\n",
    "4. Re-run the performance and risk analysis with your portfolio to see how it compares to the others.\n",
    "5. Include correlation analysis to determine which stocks (if any) are correlated."
   ]
  },
  {
   "cell_type": "markdown",
   "metadata": {},
   "source": [
    "## Choose 3-5 custom stocks with at last 1 year's worth of historic prices and create a DataFrame of the closing prices and dates for each stock."
   ]
  },
  {
   "cell_type": "raw",
   "metadata": {
    "tags": []
   },
   "source": [
    "from pathlib import Path\n"
   ]
  },
  {
   "cell_type": "code",
   "execution_count": null,
   "metadata": {},
   "outputs": [],
   "source": [
    "# Reading data from BHP\n",
    "bhp_filepath = Path(\"C:/Users/Nick Hugh/Repos/Module 4 Challenge/Resources/ASX/BHP.AX.csv\")\n",
    "bhp_daily_df = pd.read_csv(bhp_filepath, index_col = \"Date\", parse_dates=True, infer_datetime_format=True)\n",
    "bhp_daily_df = bhp_daily_df.drop(columns=[\"Open\", \"High\", \"Low\", \"Close\", \"Volume\"])\n",
    "bhp_daily_df = bhp_daily_df.rename(columns={'Adj Close': 'BHP'})\n",
    "bhp_daily_df.dropna()"
   ]
  },
  {
   "cell_type": "code",
   "execution_count": null,
   "metadata": {},
   "outputs": [],
   "source": [
    "# Reading data from WESTPAC\n",
    "wes_filepath = Path(\"C:/Users/Nick Hugh/Repos/Module 4 Challenge/Resources/ASX/WES.AX.csv\")\n",
    "wes_daily_df = pd.read_csv(wes_filepath, index_col = \"Date\", parse_dates=True, infer_datetime_format=True)\n",
    "wes_daily_df = wes_daily_df.drop(columns=[\"Open\", \"High\", \"Low\", \"Close\", \"Volume\"])\n",
    "wes_daily_df = wes_daily_df.rename(columns={'Adj Close': 'WESTPAC'})\n",
    "wes_daily_df.dropna()\n"
   ]
  },
  {
   "cell_type": "code",
   "execution_count": null,
   "metadata": {},
   "outputs": [],
   "source": [
    "# Reading data from TRANSURBAN\n",
    "tcl_filepath = Path(\"C:/Users/Nick Hugh/Repos/Module 4 Challenge/Resources/ASX/TCL.AX.csv\")\n",
    "tcl_daily_df = pd.read_csv(tcl_filepath, index_col = \"Date\", parse_dates=True, infer_datetime_format=True)\n",
    "tcl_daily_df = tcl_daily_df.drop(columns=[\"Open\", \"High\", \"Low\", \"Close\", \"Volume\"])\n",
    "tcl_daily_df = tcl_daily_df.rename(columns={'Adj Close': 'TRANSURBAN'})\n",
    "tcl_daily_df.dropna()"
   ]
  },
  {
   "cell_type": "code",
   "execution_count": null,
   "metadata": {
    "tags": []
   },
   "outputs": [],
   "source": [
    "# Reading data from CBA\n",
    "cba_filepath = Path(\"C:/Users/Nick Hugh/Repos/Module 4 Challenge/Resources/ASX/CBA.AX.csv\")\n",
    "cba_daily_df = pd.read_csv(cba_filepath, index_col = \"Date\", parse_dates=True, infer_datetime_format=True)\n",
    "cba_daily_df = cba_daily_df.drop(columns=[\"Open\", \"High\", \"Low\", \"Close\", \"Volume\"])\n",
    "cba_daily_df = cba_daily_df.rename(columns={'Adj Close': 'CBA'})\n",
    "cba_daily_df.dropna()"
   ]
  },
  {
   "cell_type": "code",
   "execution_count": null,
   "metadata": {
    "tags": []
   },
   "outputs": [],
   "source": [
    "# Reading data from CSL\n",
    "csl_filepath = Path(\"C:/Users/Nick Hugh/Repos/Module 4 Challenge/Resources/ASX/CSL.AX.csv\")\n",
    "csl_daily_df = pd.read_csv(csl_filepath, index_col = \"Date\", parse_dates=True, infer_datetime_format=True)\n",
    "csl_daily_df = csl_daily_df.drop(columns=[\"Open\", \"High\", \"Low\", \"Close\", \"Volume\"])\n",
    "csl_daily_df = csl_daily_df.rename(columns={'Adj Close': 'CSL'})\n",
    "csl_daily_df.dropna()"
   ]
  },
  {
   "cell_type": "code",
   "execution_count": null,
   "metadata": {},
   "outputs": [],
   "source": [
    "# Combine all stocks in a single DataFrame\n",
    "combined_df = pd.concat([bhp_daily_df,wes_daily_df,tcl_daily_df,cba_daily_df,csl_daily_df], axis=\"columns\",join=\"inner\")\n",
    "combined_df\n"
   ]
  },
  {
   "cell_type": "code",
   "execution_count": null,
   "metadata": {},
   "outputs": [],
   "source": [
    "# Reset Date index\n",
    "combined_df.reset_index()\n"
   ]
  },
  {
   "cell_type": "code",
   "execution_count": null,
   "metadata": {},
   "outputs": [],
   "source": [
    "# Reorganize portfolio data by having a column per symbol\n"
   ]
  },
  {
   "cell_type": "code",
   "execution_count": null,
   "metadata": {},
   "outputs": [],
   "source": [
    "# Calculate daily returns\n",
    "combined_returns_df = combined_df.pct_change()\n",
    "\n",
    "# Drop NAs\n",
    "combined_returns_df = combined_returns_df.dropna()\n",
    "\n",
    "# Display sample data\n",
    "combined_returns_df\n"
   ]
  },
  {
   "cell_type": "markdown",
   "metadata": {},
   "source": [
    "## Calculate the weighted returns for the portfolio assuming an equal number of shares for each stock"
   ]
  },
  {
   "cell_type": "code",
   "execution_count": null,
   "metadata": {},
   "outputs": [],
   "source": [
    "# Set weights\n",
    "weights = [1/5, 1/5, 1/5, 1/5, 1/5]\n",
    "\n",
    "portfolio_returns_df = pd.DataFrame()\n",
    "portfolio_returns_df[\"PORTFOLIO\"] = combined_returns_df.dot(weights)\n",
    "\n",
    "portfolio_returns_df\n"
   ]
  },
  {
   "cell_type": "markdown",
   "metadata": {},
   "source": [
    "## Join your portfolio returns to the DataFrame that contains all of the portfolio returns"
   ]
  },
  {
   "cell_type": "code",
   "execution_count": null,
   "metadata": {},
   "outputs": [],
   "source": [
    "# Join your returns DataFrame to the original returns DataFrame\n",
    "combined_Asset_returns_df = pd.concat([combined_returns_df,portfolio_returns_df], axis=\"columns\",join=\"inner\")\n",
    "combined_Asset_returns_df\n"
   ]
  },
  {
   "cell_type": "code",
   "execution_count": null,
   "metadata": {},
   "outputs": [],
   "source": [
    "# Only compare dates where return data exists for all the stocks (drop NaNs)\n",
    "combined_Asset_returns_df.isna().sum()\n"
   ]
  },
  {
   "cell_type": "markdown",
   "metadata": {},
   "source": [
    "## Re-run the risk analysis with your portfolio to see how it compares to the others"
   ]
  },
  {
   "cell_type": "markdown",
   "metadata": {},
   "source": [
    "### Calculate the Annualized Standard Deviation"
   ]
  },
  {
   "cell_type": "code",
   "execution_count": null,
   "metadata": {},
   "outputs": [],
   "source": [
    "# Calculate the annualized `std`\n",
    "combined_Asset_returns_df.std() * np.sqrt(252)\n"
   ]
  },
  {
   "cell_type": "markdown",
   "metadata": {},
   "source": [
    "### Calculate and plot rolling `std` with 21-day window"
   ]
  },
  {
   "cell_type": "code",
   "execution_count": null,
   "metadata": {},
   "outputs": [],
   "source": [
    "# Calculate rolling standard deviation\n",
    "combined_Asset_returns_df.rolling(window=21).std().dropna()\n",
    "\n",
    "# Plot rolling standard deviation\n",
    "combined_Asset_returns_df.rolling(window=21).std().dropna().plot()"
   ]
  },
  {
   "cell_type": "markdown",
   "metadata": {},
   "source": [
    "### Calculate and plot the correlation"
   ]
  },
  {
   "cell_type": "code",
   "execution_count": null,
   "metadata": {},
   "outputs": [],
   "source": [
    "# Calculate and plot the correlation\n",
    "combined_Asset_returns_df.dropna().corr()"
   ]
  },
  {
   "cell_type": "markdown",
   "metadata": {},
   "source": [
    "### Calculate and Plot the 60-day Rolling Beta for Your Portfolio compared to the S&P 60 TSX"
   ]
  },
  {
   "cell_type": "code",
   "execution_count": null,
   "metadata": {},
   "outputs": [],
   "source": [
    "# Calculate and plot Beta\n",
    "\n",
    "shop_path = Path(\"./Resources/tsx_shop.csv\")#Path(\"C:/Users/Nick Hugh/Repos/Module 4 Challenge/Resources/tsx_shop.csv\")\n",
    "shop_df = pd.read_csv(shop_path, index_col=\"Date\", infer_datetime_format=True, parse_dates=True, dayfirst=True) \n",
    "shop_df.sort_index(ascending=True) \n",
    "\n",
    "shop_returns_df = shop_df.pct_change()\n",
    "shop_returns_df = shop_returns_df.dropna()\n",
    "shop_returns_df = shop_returns_df.drop(columns=[\"Open\",\"High\",\"Low\",\"Volume\"])\n",
    "shop_returns_df = shop_returns_df.rename(columns={\"Close\":\"SHOP\"})\n",
    "shop_returns_df\n",
    "\n",
    "combined_Asset_returns_df = pd.concat([combined_Asset_returns_df,shop_returns_df], axis=\"columns\",join=\"inner\")\n",
    "combined_Asset_returns_df\n"
   ]
  },
  {
   "cell_type": "code",
   "execution_count": null,
   "metadata": {
    "tags": []
   },
   "outputs": [],
   "source": [
    "# 60 day rolling beta\n",
    "rolling_cov_df = combined_Asset_returns_df[\"PORTFOLIO\"].rolling(window=60).cov(combined_Asset_returns_df[\"SHOP\"])\n",
    "rolling_var_df = combined_Asset_returns_df[\"SHOP\"].var()\n",
    "beta = rolling_cov_df / rolling_var_df\n",
    "beta.dropna().plot()"
   ]
  },
  {
   "cell_type": "markdown",
   "metadata": {},
   "source": [
    "### Using the daily returns, calculate and visualize the Sharpe ratios using a bar plot"
   ]
  },
  {
   "cell_type": "code",
   "execution_count": null,
   "metadata": {},
   "outputs": [],
   "source": [
    "# Calculate Annualized Sharpe Ratios\n",
    "# using daily us 3m bill rates to calculate an estimate of the risdl free return \n",
    "riskfree_path = Path(\"./Resources/usd_3m_tbill_rates.csv\")#Path(\"C:/Users/Nick Hugh/Repos/Module 4 Challenge/Resources/usd_3m_tbill_rates.csv\")\n",
    "riskfree_df = pd.read_csv(riskfree_path, index_col=\"Date\", infer_datetime_format=True, parse_dates=True, dayfirst=True) \n",
    "riskfree_df = riskfree_df.dropna()\n",
    "\n",
    "riskfree_returns_df = riskfree_df / 36500 # an estimate of the one day return \n",
    "riskfree_returns_df = riskfree_returns_df.drop(columns=[\"Open\", \"High\", \"Low\", \"Adj Close\", \"Volume\"])\n",
    "riskfree_returns_df = riskfree_returns_df.rename(columns={\"Close\":\"3M BILL\"})\n",
    "combined_Asset_returns_df = pd.concat([combined_Asset_returns_df,riskfree_returns_df], axis=\"columns\",join=\"inner\")\n",
    "combined_Asset_returns_df\n",
    "\n",
    "\n"
   ]
  },
  {
   "cell_type": "code",
   "execution_count": null,
   "metadata": {},
   "outputs": [],
   "source": [
    "Asset_Returns_df = combined_Asset_returns_df.mean().dropna() \n",
    "\n",
    "Asset_stds_df = combined_Asset_returns_df.std()\n",
    "\n",
    "excess_returns = Asset_Returns_df - Asset_Returns_df[\"3M BILL\"].mean()\n",
    "\n",
    "sharp_df = excess_returns / Asset_stds_df\n",
    "print(sharp_df)\n"
   ]
  },
  {
   "cell_type": "code",
   "execution_count": null,
   "metadata": {},
   "outputs": [],
   "source": [
    "# Visualize the sharpe ratios as a bar plot\n",
    "sharp_df.plot(kind=\"bar\", title=\"sharp ratios over the period 26 Jul 22 to 24 Jul 23\")"
   ]
  },
  {
   "cell_type": "markdown",
   "metadata": {},
   "source": [
    "### How does your portfolio do?\n",
    "\n",
    "Write your answer here!"
   ]
  },
  {
   "cell_type": "code",
   "execution_count": null,
   "metadata": {},
   "outputs": [],
   "source": [
    "The very modest \"PORTFOLIO\" Sharp ratio suggest positive value adding over the risk free rate, albeit at a very modest rate.\n",
    "CSL and TRANSURBAN on average returned less than the risk free rate which is not surprising considering their strength over \n",
    "previous periods. The \"SHOP\" portfolio shows vaue added over the period.\n",
    "This analysis is over a limited period and should not in itself be an indicator of future performance"
   ]
  }
 ],
 "metadata": {
  "file_extension": ".py",
  "kernelspec": {
   "display_name": "Python 3 (ipykernel)",
   "language": "python",
   "name": "python3"
  },
  "language_info": {
   "codemirror_mode": {
    "name": "ipython",
    "version": 3
   },
   "file_extension": ".py",
   "mimetype": "text/x-python",
   "name": "python",
   "nbconvert_exporter": "python",
   "pygments_lexer": "ipython3",
   "version": "3.10.11"
  },
  "mimetype": "text/x-python",
  "name": "python",
  "npconvert_exporter": "python",
  "pygments_lexer": "ipython3",
  "version": 3
 },
 "nbformat": 4,
 "nbformat_minor": 4
}
